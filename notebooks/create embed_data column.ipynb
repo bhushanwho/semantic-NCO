{
 "cells": [
  {
   "cell_type": "code",
   "execution_count": 4,
   "id": "cf53419d-c034-4793-bd59-5691986b5c27",
   "metadata": {},
   "outputs": [],
   "source": [
    "import pandas as pd\n",
    "\n",
    "df = pd.read_csv(\"../nco_data_with_desc_500_new.csv\", dtype=str)\n",
    "df = df.fillna(\"\")\n",
    "\n",
    "df[\"embed_data\"] = df.apply(\n",
    "    lambda row: (\n",
    "        f\"The occupation {row['occupation_title']} \"\n",
    "        f\"NCO 2015: {row['nco_2015']}, NCO 2004: {row['nco_2004']} \"\n",
    "        f\"belongs to division {row['division']}, subdivision {row['subdivision']}, \"\n",
    "        f\"group {row['group']}, and family {row['family']}. \"\n",
    "        f\"Description: {row['description']}\"\n",
    "    ),\n",
    "    axis=1\n",
    ")\n",
    "\n",
    "df.to_csv(\"../nco_500_embed.csv\", index=False)"
   ]
  },
  {
   "cell_type": "code",
   "execution_count": null,
   "id": "c2599177-cd13-491b-b0e2-c2c8767c8976",
   "metadata": {},
   "outputs": [],
   "source": []
  }
 ],
 "metadata": {
  "kernelspec": {
   "display_name": "Python 3 (ipykernel)",
   "language": "python",
   "name": "python3"
  },
  "language_info": {
   "codemirror_mode": {
    "name": "ipython",
    "version": 3
   },
   "file_extension": ".py",
   "mimetype": "text/x-python",
   "name": "python",
   "nbconvert_exporter": "python",
   "pygments_lexer": "ipython3",
   "version": "3.12.10"
  }
 },
 "nbformat": 4,
 "nbformat_minor": 5
}
