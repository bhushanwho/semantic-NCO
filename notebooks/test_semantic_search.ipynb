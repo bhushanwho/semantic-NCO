{
 "cells": [
  {
   "cell_type": "code",
   "execution_count": 1,
   "id": "8a01997d-3928-4af0-be2a-f8a1e51acd47",
   "metadata": {},
   "outputs": [],
   "source": [
    "from langchain_community.document_loaders import CSVLoader\n",
    "\n",
    "loader = CSVLoader(\n",
    "    file_path=r\"C:\\Users\\bhushan\\Desktop\\dev1\\semantic_st25\\nco_data_with_desc_500_new.csv\",\n",
    "    content_columns=[\"description\"],\n",
    "    metadata_columns=[\"occupation_title\", \"nco_2015\", \"nco_2004\", \"division\", \"subdivision\", \"group\", \"family\", \"sno\"]\n",
    ")\n",
    "\n",
    "documents = loader.load()"
   ]
  },
  {
   "cell_type": "code",
   "execution_count": 3,
   "id": "29de174e-46ed-429a-b13b-35b1318544f6",
   "metadata": {},
   "outputs": [
    {
     "name": "stdout",
     "output_type": "stream",
     "text": [
      "WARNING:tensorflow:From C:\\Users\\bhushan\\AppData\\Local\\Programs\\Python\\Python312\\Lib\\site-packages\\tf_keras\\src\\losses.py:2976: The name tf.losses.sparse_softmax_cross_entropy is deprecated. Please use tf.compat.v1.losses.sparse_softmax_cross_entropy instead.\n",
      "\n"
     ]
    }
   ],
   "source": [
    "from langchain_huggingface import HuggingFaceEmbeddings\n",
    "\n",
    "embeddings = HuggingFaceEmbeddings(model_name=\"sentence-transformers/all-mpnet-base-v2\")"
   ]
  },
  {
   "cell_type": "code",
   "execution_count": 4,
   "id": "8be9b995-f7a7-43b4-954c-cd9ca97ff800",
   "metadata": {},
   "outputs": [],
   "source": [
    "from langchain_community.vectorstores.faiss import FAISS\n",
    "\n",
    "texts = [doc.page_content for doc in documents]\n",
    "metadatas = [doc.metadata for doc in documents]\n",
    "\n",
    "faiss_store = FAISS.from_texts(texts, embeddings, metadatas=metadatas)"
   ]
  },
  {
   "cell_type": "code",
   "execution_count": 18,
   "id": "1f027efe-7b5a-4288-bb69-6dfa5502a58c",
   "metadata": {},
   "outputs": [
    {
     "name": "stdout",
     "output_type": "stream",
     "text": [
      "sno  similarity_score                                                                 occupation_title  nco_2015 nco_2004      division\n",
      " 32          1.024390                                                                   Director, Bank 1120.0700  1212.10      Managers\n",
      "  2          1.044280                                                            General Manager, Bank 1211.0100  1307.10      Managers\n",
      "165          1.103403                                                                    Manager, Bank 1346.0100  1227.10      Managers\n",
      "167          1.137011                           Financial and Insurance Service Branch Managers, Other 1346.9900  1227.90      Managers\n",
      "223          1.223267                               Mathematicians, Actuaries and Statisticians, Other 2120.9900  2122.90 Professionals\n",
      "  1          1.341756                                                         Finance Managers, Others 1211.9900   1231.9      Managers\n",
      " 77          1.380076                                              Territory Sales Manager (Broadband) 1221.0401               Managers\n",
      "154          1.400700            Supply, Distribution and Related Managers and General Managers, Other 1324.9900  1226.90      Managers\n",
      " 35          1.405048                                                              Director, Insurance 1120.0800  1212.20      Managers\n",
      " 22          1.417575                                           Account Director ( Advertising Agency) 1120.3401               Managers\n",
      "171          1.434008                                                       Manager, Fast Food Service 1412.0100  1225.20      Managers\n",
      "224          1.447566                                                                    Mathematician 2120.0100  2121.10 Professionals\n",
      " 78          1.450477                                                Territory Sales Manager (Prepaid) 1221.0501               Managers\n",
      " 84          1.457741                                               Manager, Advertising and Promotion 1222.0100  1234.10      Managers\n",
      "348          1.458951                                                     Chemical Engineer, Petroleum 2145.0500  2146.40 Professionals\n",
      " 91          1.471606                                                  General Manager, Livestock Farm 1311.0400  1301.40      Managers\n",
      "  4          1.472236                                                                     Purser, Ship 1211.0300  1231.10      Managers\n",
      " 72          1.473197                                                         Managers, Other Services 1213.9900  1239.90      Managers\n",
      "  8          1.475894       Director, Lodging and Catering Services/Director Food and Beverage Service 1120.3000  1217.20      Managers\n",
      "172          1.476200                                                       Restaurant Managers, Other 1412.9900  1305.90      Managers\n",
      " 71          1.478442                                                        Territory Service Manager 1213.0202               Managers\n",
      "103          1.482114                                                              Manager, Dairy Farm 1311.1400  1221.50      Managers\n",
      "335          1.482582                                                      Mechanical Engineer, Marine 2144.1000  2145.50 Professionals\n",
      "168          1.482593                          Manager, Lodging and Catering Services/Resident Manager 1411.0100  1225.10      Managers\n",
      "312          1.485287                                                Service Engineer â€“ Installation 2144.1401          Professionals\n",
      "162          1.488002                                                           Manager, Communication 1330.0100  1226.40      Managers\n",
      " 70          1.489009                                                             Area Service Manager 1213.0201               Managers\n",
      " 80          1.489015                                                        Sales Manager (Media Org) 1221.0602               Managers\n",
      "169          1.498642                                   General Manager, Lodging and Catering Services 1411.0200  1305.10      Managers\n",
      " 81          1.499387                                              Sales and Marketing Managers, Other 1221.9900  1233.90      Managers\n",
      " 34          1.501181                                                             Director, Museum/Zoo 1120.3700  1219.30      Managers\n",
      " 28          1.501558                                               Working Proprietor, Other Services 1120.3500  1219.10      Managers\n",
      " 24          1.502943                        Working Proprietor, Retail Trade/Proprietor, Retail Trade 1120.2000  1214.40      Managers\n",
      "  6          1.503592                                Working Proprietor, Lodging and Catering Services 1120.2900  1217.10      Managers\n",
      "170          1.507178                                                           Hotel Managers, Others 1411.9900  1225.90      Managers\n",
      "102          1.511513                                                          Manager, Livestock Farm 1311.1300  1221.40      Managers\n",
      " 61          1.511564 Senior Officials of Employers, Workers and Other Economic Interest Organizations 1114.0100  1142.00      Managers\n",
      "166          1.514093                                                               Manager, Insurance 1346.0200  1227.20      Managers\n",
      "243          1.520463                                                                   Bacteriologist 2131.1200  2211.85 Professionals\n",
      " 46          1.521029                                                Director, Storage and Warehousing 1120.2800  1216.20      Managers\n",
      " 69          1.523296                                              Manager, Automotive Service Station 1213.0200  1239.20      Managers\n",
      " 92          1.525302                                                      General Manager, Dairy Farm 1311.0500  1301.50      Managers\n",
      "273          1.526502                                                                Planning Engineer 2141.0500  2149.78 Professionals\n",
      " 30          1.527473                                                           Director, Retail Trade 1120.2200  1214.60      Managers\n",
      "150          1.527557                                                       General Manager, Transport 1324.2100  1306.10      Managers\n",
      "277          1.529401                                                                 Methods Engineer 2141.0600  2149.80 Professionals\n",
      "113          1.529847                                                    General Manager, Water Supply 1321.0900  1302.60      Managers\n",
      " 25          1.532531                                                       Sales Director (Media Org) 1120.3402               Managers\n",
      "159          1.534337                                                   General Manager, Communication 1330.0600  1306.20      Managers\n",
      "344          1.536797                                                       Chemical Engineer, General 2145.0100  2146.10 Professionals\n"
     ]
    }
   ],
   "source": [
    "import pandas as pd\n",
    "\n",
    "query = \"jobs in banking sector\"\n",
    "rows = []\n",
    "\n",
    "results = faiss_store.similarity_search_with_score(query, k=50)\n",
    "\n",
    "for doc, score in results:\n",
    "    row = doc.metadata.copy()\n",
    "    row[\"similarity_score\"] = score\n",
    "    rows.append(row)\n",
    "\n",
    "df = pd.DataFrame(rows)\n",
    "print(df[[\n",
    "    \"sno\", \"similarity_score\", \"occupation_title\", \"nco_2015\", \"nco_2004\",\n",
    "    \"division\"\n",
    "]].to_string(index=False))"
   ]
  },
  {
   "cell_type": "code",
   "execution_count": null,
   "id": "5853fe03-fb31-416f-8b2a-4c5473c9f27d",
   "metadata": {},
   "outputs": [],
   "source": []
  }
 ],
 "metadata": {
  "kernelspec": {
   "display_name": "Python 3 (ipykernel)",
   "language": "python",
   "name": "python3"
  },
  "language_info": {
   "codemirror_mode": {
    "name": "ipython",
    "version": 3
   },
   "file_extension": ".py",
   "mimetype": "text/x-python",
   "name": "python",
   "nbconvert_exporter": "python",
   "pygments_lexer": "ipython3",
   "version": "3.12.10"
  }
 },
 "nbformat": 4,
 "nbformat_minor": 5
}
