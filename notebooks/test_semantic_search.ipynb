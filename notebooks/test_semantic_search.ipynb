{
 "cells": [
  {
   "cell_type": "code",
   "execution_count": 1,
   "id": "8a01997d-3928-4af0-be2a-f8a1e51acd47",
   "metadata": {},
   "outputs": [],
   "source": [
    "from langchain_community.document_loaders import CSVLoader\n",
    "\n",
    "loader = CSVLoader(\n",
    "    file_path=r\"C:\\Users\\bhushan\\Desktop\\dev1\\semantic_st25\\nco_data_with_desc_500_new.csv\",\n",
    "    content_columns=[\"description\"],\n",
    "    metadata_columns=[\"occupation_title\", \"nco_2015\", \"nco_2004\", \"division\", \"subdivision\", \"group\", \"family\", \"sno\"]\n",
    ")\n",
    "\n",
    "documents = loader.load()"
   ]
  },
  {
   "cell_type": "code",
   "execution_count": 3,
   "id": "29de174e-46ed-429a-b13b-35b1318544f6",
   "metadata": {},
   "outputs": [
    {
     "name": "stdout",
     "output_type": "stream",
     "text": [
      "WARNING:tensorflow:From C:\\Users\\bhushan\\AppData\\Local\\Programs\\Python\\Python312\\Lib\\site-packages\\tf_keras\\src\\losses.py:2976: The name tf.losses.sparse_softmax_cross_entropy is deprecated. Please use tf.compat.v1.losses.sparse_softmax_cross_entropy instead.\n",
      "\n"
     ]
    }
   ],
   "source": [
    "from langchain_huggingface import HuggingFaceEmbeddings\n",
    "\n",
    "embeddings = HuggingFaceEmbeddings(model_name=\"sentence-transformers/all-mpnet-base-v2\")"
   ]
  },
  {
   "cell_type": "code",
   "execution_count": 4,
   "id": "8be9b995-f7a7-43b4-954c-cd9ca97ff800",
   "metadata": {},
   "outputs": [],
   "source": [
    "from langchain_community.vectorstores.faiss import FAISS\n",
    "\n",
    "texts = [doc.page_content for doc in documents]\n",
    "metadatas = [doc.metadata for doc in documents]\n",
    "\n",
    "faiss_store = FAISS.from_texts(texts, embeddings, metadatas=metadatas)"
   ]
  },
  {
   "cell_type": "code",
   "execution_count": 20,
   "id": "1f027efe-7b5a-4288-bb69-6dfa5502a58c",
   "metadata": {},
   "outputs": [
    {
     "name": "stdout",
     "output_type": "stream",
     "text": [
      "sno  similarity_score                                                                 occupation_title  nco_2015 nco_2004      division\n",
      "  2          1.038140                                                            General Manager, Bank 1211.0100  1307.10      Managers\n",
      " 32          1.086828                                                                   Director, Bank 1120.0700  1212.10      Managers\n",
      "165          1.103239                                                                    Manager, Bank 1346.0100  1227.10      Managers\n",
      "167          1.126148                           Financial and Insurance Service Branch Managers, Other 1346.9900  1227.90      Managers\n",
      "154          1.311838            Supply, Distribution and Related Managers and General Managers, Other 1324.9900  1226.90      Managers\n",
      "223          1.320569                               Mathematicians, Actuaries and Statisticians, Other 2120.9900  2122.90 Professionals\n",
      "  1          1.362915                                                         Finance Managers, Others 1211.9900   1231.9      Managers\n",
      " 35          1.364815                                                              Director, Insurance 1120.0800  1212.20      Managers\n",
      " 77          1.374949                                              Territory Sales Manager (Broadband) 1221.0401               Managers\n",
      " 61          1.430472 Senior Officials of Employers, Workers and Other Economic Interest Organizations 1114.0100  1142.00      Managers\n",
      " 34          1.451919                                                             Director, Museum/Zoo 1120.3700  1219.30      Managers\n",
      " 71          1.452372                                                        Territory Service Manager 1213.0202               Managers\n",
      " 33          1.452744                                                    Working Proprietor, Transport 1120.2300  1215.10      Managers\n",
      " 72          1.456300                                                         Managers, Other Services 1213.9900  1239.90      Managers\n",
      " 91          1.462620                                                  General Manager, Livestock Farm 1311.0400  1301.40      Managers\n",
      " 30          1.467233                                                           Director, Retail Trade 1120.2200  1214.60      Managers\n",
      " 27          1.471315                                                        Director, Wholesale Trade 1120.2100  1214.50      Managers\n",
      " 41          1.484500                                    Working Proprietor, Quarry/Proprietor, Quarry 1120.1000  1213.20      Managers\n",
      "224          1.485730                                                                    Mathematician 2120.0100  2121.10 Professionals\n",
      "  4          1.487101                                                                     Purser, Ship 1211.0300  1231.10      Managers\n",
      " 78          1.492220                                                Territory Sales Manager (Prepaid) 1221.0501               Managers\n",
      " 70          1.496879                                                             Area Service Manager 1213.0201               Managers\n",
      " 24          1.500082                        Working Proprietor, Retail Trade/Proprietor, Retail Trade 1120.2000  1214.40      Managers\n",
      "146          1.500180                                                      Section Controller, Railway 1324.1900  1226.67      Managers\n",
      " 13          1.507464                                 Working Proprietor, Recreation and Entertainment 1120.3200  1218.10      Managers\n",
      " 46          1.510116                                                Director, Storage and Warehousing 1120.2800  1216.20      Managers\n",
      " 81          1.510176                                              Sales and Marketing Managers, Other 1221.9900  1233.90      Managers\n",
      "162          1.513156                                                           Manager, Communication 1330.0100  1226.40      Managers\n",
      "113          1.517687                                                    General Manager, Water Supply 1321.0900  1302.60      Managers\n",
      "244          1.523183                                                                       Agronomist 2132.0100  2213.10 Professionals\n",
      "166          1.526651                                                               Manager, Insurance 1346.0200  1227.20      Managers\n",
      " 15          1.526715                      Working Proprietor, Manufacturing/Proprietor, Manufacturing 1120.1700  1214.10      Managers\n",
      "  3          1.535370                                                       General Manager, Insurance 1211.0200  1307.20      Managers\n",
      " 28          1.539472                                               Working Proprietor, Other Services 1120.3500  1219.10      Managers\n",
      " 69          1.541067                                              Manager, Automotive Service Station 1213.0200  1239.20      Managers\n",
      "398          1.541960                                                       Building Architects, Other 2161.9900  2141.90 Professionals\n",
      "103          1.542965                                                              Manager, Dairy Farm 1311.1400  1221.50      Managers\n",
      " 21          1.545247                  Working Proprietor, Wholesale Trade/Proprietor, Wholesale Trade 1120.1900  1214.30      Managers\n",
      "180          1.547929                            Sports, Recreation and Cultural Centre Manager, Other 1431.9900  1309.90      Managers\n",
      "157          1.549663             Contract Officer, Telephone/Liaising Officer/ PRO/Business Executive 1330.0200  1226.70      Managers\n",
      "150          1.552637                                                       General Manager, Transport 1324.2100  1306.10      Managers\n",
      " 82          1.553941                                                  Sales Manager (Wholesale Trade) 1221.0100  1233.10      Managers\n",
      "161          1.560026                 Information and Communication Technology Services Manager, Other 1330.9900               Managers\n",
      "178          1.561843                                                            Manager, Retail Trade 1420.0200  1224.20      Managers\n",
      " 92          1.563172                                                      General Manager, Dairy Farm 1311.0500  1301.50      Managers\n",
      "102          1.563610                                                          Manager, Livestock Farm 1311.1300  1221.40      Managers\n",
      "171          1.563876                                                       Manager, Fast Food Service 1412.0100  1225.20      Managers\n",
      " 14          1.567995                                                  Working Proprietor, Electricity 1120.0100  1211.10      Managers\n",
      "337          1.570189                                                                 Architect, Naval 2144.1100  2145.55 Professionals\n",
      "175          1.570996                      General Manager, Retail Trade, Senior Manager, Retail Trade 1420.0500  1304.20      Managers\n"
     ]
    }
   ],
   "source": [
    "import pandas as pd\n",
    "\n",
    "query = \"banking sector\"\n",
    "rows = []\n",
    "\n",
    "results = faiss_store.similarity_search_with_score(query, k=50)\n",
    "\n",
    "for doc, score in results:\n",
    "    row = doc.metadata.copy()\n",
    "    row[\"similarity_score\"] = score\n",
    "    rows.append(row)\n",
    "\n",
    "df = pd.DataFrame(rows)\n",
    "print(df[[\n",
    "    \"sno\", \"similarity_score\", \"occupation_title\", \"nco_2015\", \"nco_2004\",\n",
    "    \"division\"\n",
    "]].to_string(index=False))"
   ]
  },
  {
   "cell_type": "code",
   "execution_count": null,
   "id": "5853fe03-fb31-416f-8b2a-4c5473c9f27d",
   "metadata": {},
   "outputs": [],
   "source": []
  }
 ],
 "metadata": {
  "kernelspec": {
   "display_name": "Python 3 (ipykernel)",
   "language": "python",
   "name": "python3"
  },
  "language_info": {
   "codemirror_mode": {
    "name": "ipython",
    "version": 3
   },
   "file_extension": ".py",
   "mimetype": "text/x-python",
   "name": "python",
   "nbconvert_exporter": "python",
   "pygments_lexer": "ipython3",
   "version": "3.12.10"
  }
 },
 "nbformat": 4,
 "nbformat_minor": 5
}
