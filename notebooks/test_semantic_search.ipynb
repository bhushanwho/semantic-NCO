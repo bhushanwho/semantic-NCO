{
 "cells": [
  {
   "cell_type": "code",
   "execution_count": 1,
   "id": "8a01997d-3928-4af0-be2a-f8a1e51acd47",
   "metadata": {},
   "outputs": [],
   "source": [
    "from langchain_community.document_loaders import CSVLoader\n",
    "\n",
    "loader = CSVLoader(\n",
    "    file_path=r\"C:\\Users\\bhushan\\Desktop\\dev1\\semantic_st25\\nco_data_with_desc_500_new.csv\",\n",
    "    content_columns=[\"description\"],\n",
    "    metadata_columns=[\"occupation_title\", \"nco_2015\", \"nco_2004\", \"division\", \"subdivision\", \"group\", \"family\", \"sno\"]\n",
    ")\n",
    "\n",
    "documents = loader.load()"
   ]
  },
  {
   "cell_type": "code",
   "execution_count": 3,
   "id": "29de174e-46ed-429a-b13b-35b1318544f6",
   "metadata": {},
   "outputs": [
    {
     "name": "stdout",
     "output_type": "stream",
     "text": [
      "WARNING:tensorflow:From C:\\Users\\bhushan\\AppData\\Local\\Programs\\Python\\Python312\\Lib\\site-packages\\tf_keras\\src\\losses.py:2976: The name tf.losses.sparse_softmax_cross_entropy is deprecated. Please use tf.compat.v1.losses.sparse_softmax_cross_entropy instead.\n",
      "\n"
     ]
    }
   ],
   "source": [
    "from langchain_huggingface import HuggingFaceEmbeddings\n",
    "\n",
    "embeddings = HuggingFaceEmbeddings(model_name=\"sentence-transformers/all-mpnet-base-v2\")"
   ]
  },
  {
   "cell_type": "code",
   "execution_count": 4,
   "id": "8be9b995-f7a7-43b4-954c-cd9ca97ff800",
   "metadata": {},
   "outputs": [],
   "source": [
    "from langchain_community.vectorstores.faiss import FAISS\n",
    "\n",
    "texts = [doc.page_content for doc in documents]\n",
    "metadatas = [doc.metadata for doc in documents]\n",
    "\n",
    "faiss_store = FAISS.from_texts(texts, embeddings, metadatas=metadatas)"
   ]
  },
  {
   "cell_type": "code",
   "execution_count": 17,
   "id": "1f027efe-7b5a-4288-bb69-6dfa5502a58c",
   "metadata": {},
   "outputs": [
    {
     "name": "stdout",
     "output_type": "stream",
     "text": [
      "sno  similarity_score                                                   occupation_title  nco_2015 nco_2004      division\n",
      "164          1.234366                                                         Headmaster 1345.0100  1229.20      Managers\n",
      "466          1.353673                                                            Dresser 2240.0400  3221.40 Professionals\n",
      " 40          1.361574                                                 Principal, College 1120.3900  1219.50      Managers\n",
      "491          1.368798                                             Occupational Therapist 2264.0200  3226.20 Professionals\n",
      " 95          1.386244                                                Manager, Plantation 1311.0800  1221.20      Managers\n",
      "464          1.396817                                                   Physician, Unani 2230.0400  2224.10 Professionals\n",
      "266          1.402133                                          Printing Master (Textile) 2141.1700  2149.50 Professionals\n",
      "431          1.413092                                                           Modeller 2166.0202          Professionals\n",
      "187          1.416426                                                   Physicist, Sound 2111.0500  2111.30 Professionals\n",
      "440          1.436182                                                       Orthopaedist 2212.1400  2221.85 Professionals\n",
      "330          1.438945                                                  Designer, Machine 2144.0200  2145.15 Professionals\n",
      "231          1.439761                                                 Biologist, General 2131.0100  2211.10 Professionals\n",
      "393          1.443658                                                     Sound Designer 2153.0511          Professionals\n",
      "327          1.444412                                                           Modeller 2144.0802          Professionals\n",
      "404          1.448666                                                 Furniture Designer 2163.0400  3471.20 Professionals\n",
      "437          1.455809                                                 Physician, General 2211.0100  2221.10 Professionals\n",
      "298          1.457845                                               Groundwater Engineer 2142.1001          Professionals\n",
      "446          1.459673                                             Malariologist, Medical 2212.1800  2212.45 Professionals\n",
      "214          1.460030                                                       Mineralogist 2114.0600  2114.60 Professionals\n",
      "126          1.463155                                               Manager, Land Survey 1323.0200  1223.20      Managers\n",
      " 41          1.464125                      Working Proprietor, Quarry/Proprietor, Quarry 1120.1000  1213.20      Managers\n",
      "240          1.467027                                                 Zoologist, General 2131.0900  2211.60 Professionals\n",
      "241          1.467729                                                       Entomologist 2131.1000  2211.65 Professionals\n",
      "216          1.474182                                                      Oceanographer 2114.0800  2114.80 Professionals\n",
      " 51          1.474909                               Executive Official, State Government 1112.0500  1122.20      Managers\n",
      "433          1.482966                                                 Anatomist, Medical 2211.0300  2221.20 Professionals\n",
      "405          1.484530                                                       Town Planner 2164.0100  2141.20 Professionals\n",
      "391          1.486126                                                     Sound Engineer 2153.0500  2144.50 Professionals\n",
      "220          1.486144                                              Statistician, Applied 2120.0400  2122.20 Professionals\n",
      "211          1.490089                                                    Palaeontologist 2114.0300  2114.30 Professionals\n",
      "255          1.493006                                                          Ecologist 2133.0100  2211.25 Professionals\n",
      "337          1.494119                                                   Architect, Naval 2144.1100  2145.55 Professionals\n",
      "443          1.494924                                                        Neurologist 2212.0100  2221.35 Professionals\n",
      "498          1.496616                                              Nutritionist, General 2265.0100  3223.10 Professionals\n",
      "400          1.497317                                                   Textile Designer 2163.0600  3471.45 Professionals\n",
      "263          1.500729                   Works Inspector, Engineering/Inspection Engineer 2141.0100  2149.10 Professionals\n",
      "392          1.501365                                              Sound Engineer, Media 2153.0501          Professionals\n",
      "105          1.502203                                        General Manager, Plantation 1311.0100  1301.20      Managers\n",
      "138          1.502886                                            Station Master, Railway 1324.1500  1226.60      Managers\n",
      "409          1.505337                                  Aerial â€“ Photograph Interpreter 2165.0300  2148.25 Professionals\n",
      "264          1.506474                             Dyeing and Bleaching Master (Textiles) 2141.1600  2149.45 Professionals\n",
      "292          1.506621                                 Civil Engineer, Highways and Roads 2142.0600  2142.50 Professionals\n",
      "455          1.506842                                                          Urologist 2212.0900  2221.68 Professionals\n",
      "277          1.507214                                                   Methods Engineer 2141.0600  2149.80 Professionals\n",
      "232          1.507416 Biologists, Botanists, Zoologists and Related Professionals, Other 2131.9900  2211.90 Professionals\n",
      "444          1.508802                                               Pathologist, Medical 2212.1700  2212.40 Professionals\n",
      "254          1.508893                       Agronomists and Related Professionals, Other 2132.9900  2213.90 Professionals\n",
      "468          1.509358                          Emergency Medical Technician â€“ Advanced 2240.0502          Professionals\n",
      "449          1.509556                                    Ear, Nose and Throat Specialist 2212.0400  2221.45 Professionals\n",
      "200          1.509560                                                  Chemist, Physical 2113.0400  2113.40 Professionals\n"
     ]
    }
   ],
   "source": [
    "import pandas as pd\n",
    "\n",
    "query = \"english teacher\"\n",
    "rows = []\n",
    "\n",
    "results = faiss_store.similarity_search_with_score(query, k=50)\n",
    "\n",
    "for doc, score in results:\n",
    "    row = doc.metadata.copy()\n",
    "    row[\"similarity_score\"] = score\n",
    "    rows.append(row)\n",
    "\n",
    "df = pd.DataFrame(rows)\n",
    "print(df[[\n",
    "    \"sno\", \"similarity_score\", \"occupation_title\", \"nco_2015\", \"nco_2004\",\n",
    "    \"division\"\n",
    "]].to_string(index=False))"
   ]
  },
  {
   "cell_type": "code",
   "execution_count": null,
   "id": "5853fe03-fb31-416f-8b2a-4c5473c9f27d",
   "metadata": {},
   "outputs": [],
   "source": []
  }
 ],
 "metadata": {
  "kernelspec": {
   "display_name": "Python 3 (ipykernel)",
   "language": "python",
   "name": "python3"
  },
  "language_info": {
   "codemirror_mode": {
    "name": "ipython",
    "version": 3
   },
   "file_extension": ".py",
   "mimetype": "text/x-python",
   "name": "python",
   "nbconvert_exporter": "python",
   "pygments_lexer": "ipython3",
   "version": "3.12.10"
  }
 },
 "nbformat": 4,
 "nbformat_minor": 5
}
