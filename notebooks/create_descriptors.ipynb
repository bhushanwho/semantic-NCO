{
 "cells": [
  {
   "cell_type": "code",
   "execution_count": 1,
   "id": "ee9fa14d-b782-410c-a60a-01a3a716152c",
   "metadata": {},
   "outputs": [
    {
     "name": "stdin",
     "output_type": "stream",
     "text": [
      " ········\n"
     ]
    }
   ],
   "source": [
    "import getpass\n",
    "import os\n",
    "\n",
    "os.environ[\"LANGSMITH_TRACING\"] = \"true\"\n",
    "os.environ[\"LANGSMITH_API_KEY\"] = getpass.getpass()"
   ]
  },
  {
   "cell_type": "code",
   "execution_count": 2,
   "id": "f2365940-c777-4872-a5dd-cf7fd4eb2662",
   "metadata": {},
   "outputs": [],
   "source": [
    "from langchain_community.document_loaders import PyPDFLoader"
   ]
  },
  {
   "cell_type": "code",
   "execution_count": 3,
   "id": "cf0b6adc-0980-4a42-9c1d-3fd34c7d6bee",
   "metadata": {},
   "outputs": [],
   "source": [
    "file_path = r\"C:\\Users\\bhushan\\Desktop\\dev1\\semantic_st25\\data\\NCO_2015_stripped_descriptions.pdf\"\n",
    "loader = PyPDFLoader(file_path)\n",
    "\n",
    "docs = loader.load()"
   ]
  },
  {
   "cell_type": "code",
   "execution_count": 24,
   "id": "4e5ff8ce-176b-43ed-8c60-ea1079c9833b",
   "metadata": {},
   "outputs": [
    {
     "name": "stdout",
     "output_type": "stream",
     "text": [
      "1152\n"
     ]
    }
   ],
   "source": [
    "print(len(docs))"
   ]
  },
  {
   "cell_type": "code",
   "execution_count": 4,
   "id": "116ae91d-a79c-4d50-8662-aeb1a32a86bb",
   "metadata": {},
   "outputs": [
    {
     "data": {
      "text/plain": [
       "4313"
      ]
     },
     "execution_count": 4,
     "metadata": {},
     "output_type": "execute_result"
    }
   ],
   "source": [
    "from langchain_text_splitters import RecursiveCharacterTextSplitter\n",
    "\n",
    "text_splitter = RecursiveCharacterTextSplitter(\n",
    "    chunk_size=1000, chunk_overlap=200, add_start_index=True\n",
    ")\n",
    "all_splits = text_splitter.split_documents(docs)\n",
    "\n",
    "len(all_splits)"
   ]
  },
  {
   "cell_type": "code",
   "execution_count": 5,
   "id": "68da43ca-c759-45f2-8040-823b5925687b",
   "metadata": {
    "scrolled": true
   },
   "outputs": [
    {
     "data": {
      "application/vnd.jupyter.widget-view+json": {
       "model_id": "39abd61c414f4bbcb89aa2e4d826e4b2",
       "version_major": 2,
       "version_minor": 0
      },
      "text/plain": [
       "model.safetensors:   0%|          | 0.00/438M [00:00<?, ?B/s]"
      ]
     },
     "metadata": {},
     "output_type": "display_data"
    },
    {
     "name": "stderr",
     "output_type": "stream",
     "text": [
      "C:\\Users\\bhushan\\AppData\\Local\\Programs\\Python\\Python312\\Lib\\site-packages\\huggingface_hub\\file_download.py:143: UserWarning: `huggingface_hub` cache-system uses symlinks by default to efficiently store duplicated files but your machine does not support them in C:\\Users\\bhushan\\.cache\\huggingface\\hub\\models--sentence-transformers--all-mpnet-base-v2. Caching files will still work but in a degraded version that might require more space on your disk. This warning can be disabled by setting the `HF_HUB_DISABLE_SYMLINKS_WARNING` environment variable. For more details, see https://huggingface.co/docs/huggingface_hub/how-to-cache#limitations.\n",
      "To support symlinks on Windows, you either need to activate Developer Mode or to run Python as an administrator. In order to activate developer mode, see this article: https://docs.microsoft.com/en-us/windows/apps/get-started/enable-your-device-for-development\n",
      "  warnings.warn(message)\n"
     ]
    },
    {
     "data": {
      "application/vnd.jupyter.widget-view+json": {
       "model_id": "22ac815c8e2d475fa0b52fd66de7a5c7",
       "version_major": 2,
       "version_minor": 0
      },
      "text/plain": [
       "tokenizer_config.json:   0%|          | 0.00/363 [00:00<?, ?B/s]"
      ]
     },
     "metadata": {},
     "output_type": "display_data"
    },
    {
     "data": {
      "application/vnd.jupyter.widget-view+json": {
       "model_id": "eadd9563b30748a597c40504522c3926",
       "version_major": 2,
       "version_minor": 0
      },
      "text/plain": [
       "vocab.txt: 0.00B [00:00, ?B/s]"
      ]
     },
     "metadata": {},
     "output_type": "display_data"
    },
    {
     "data": {
      "application/vnd.jupyter.widget-view+json": {
       "model_id": "074fde93f2a8467ab204555498d33821",
       "version_major": 2,
       "version_minor": 0
      },
      "text/plain": [
       "tokenizer.json: 0.00B [00:00, ?B/s]"
      ]
     },
     "metadata": {},
     "output_type": "display_data"
    },
    {
     "data": {
      "application/vnd.jupyter.widget-view+json": {
       "model_id": "954f9b35a6df41edbea57d09b196629f",
       "version_major": 2,
       "version_minor": 0
      },
      "text/plain": [
       "special_tokens_map.json:   0%|          | 0.00/239 [00:00<?, ?B/s]"
      ]
     },
     "metadata": {},
     "output_type": "display_data"
    },
    {
     "data": {
      "application/vnd.jupyter.widget-view+json": {
       "model_id": "dde66aa394b64bd69d5c101ddd19de52",
       "version_major": 2,
       "version_minor": 0
      },
      "text/plain": [
       "config.json:   0%|          | 0.00/190 [00:00<?, ?B/s]"
      ]
     },
     "metadata": {},
     "output_type": "display_data"
    }
   ],
   "source": [
    "from langchain_huggingface import HuggingFaceEmbeddings\n",
    "\n",
    "embeddings = HuggingFaceEmbeddings(model_name=\"sentence-transformers/all-mpnet-base-v2\")"
   ]
  },
  {
   "cell_type": "code",
   "execution_count": 6,
   "id": "fae39bb9-60b7-4308-8306-1456aad518fb",
   "metadata": {},
   "outputs": [
    {
     "name": "stdout",
     "output_type": "stream",
     "text": [
      "Generated vectors of length 768\n",
      "\n",
      "[0.027572426944971085, -0.027625780552625656, 7.453797297785059e-05, -0.01742544025182724, -0.025777947157621384, 0.03375286981463432, 0.04299711808562279, 0.015540871769189835, 0.003127140225842595, -0.006702519953250885]\n"
     ]
    }
   ],
   "source": [
    "vector_1 = embeddings.embed_query(all_splits[0].page_content)\n",
    "vector_2 = embeddings.embed_query(all_splits[1].page_content)\n",
    "\n",
    "assert len(vector_1) == len(vector_2)\n",
    "print(f\"Generated vectors of length {len(vector_1)}\\n\")\n",
    "print(vector_1[:10])"
   ]
  },
  {
   "cell_type": "code",
   "execution_count": 9,
   "id": "a9be6edb-55b1-4c7d-a67a-7a5ff7f719f1",
   "metadata": {},
   "outputs": [],
   "source": [
    "import faiss\n",
    "from langchain_community.docstore.in_memory import InMemoryDocstore\n",
    "from langchain_community.vectorstores import FAISS\n",
    "\n",
    "embedding_dim = len(embeddings.embed_query(\"hello world\"))\n",
    "index = faiss.IndexFlatL2(embedding_dim)\n",
    "\n",
    "vector_store = FAISS(\n",
    "    embedding_function=embeddings,\n",
    "    index=index,\n",
    "    docstore=InMemoryDocstore(),\n",
    "    index_to_docstore_id={},\n",
    ")"
   ]
  },
  {
   "cell_type": "code",
   "execution_count": 10,
   "id": "773a7996-1174-4caf-85c3-c2785ca2a3a5",
   "metadata": {},
   "outputs": [],
   "source": [
    "ids = vector_store.add_documents(documents=all_splits)"
   ]
  },
  {
   "cell_type": "code",
   "execution_count": 24,
   "id": "4ec14940-feb0-4e90-b0de-85b4c113081a",
   "metadata": {},
   "outputs": [
    {
     "name": "stdout",
     "output_type": "stream",
     "text": [
      "Score: 0.8673990368843079\n",
      "\n",
      "page_content='enterprise or organization, in consultation \n",
      "with Senior Managers and with Managers \n",
      "of other departments or sections. \n",
      " \n",
      "1211.0100 \n",
      "General Manager, Bank \n",
      " \n",
      "General Manager, Bank organi zes, \n",
      "controls and supervi ses, within authority \n",
      "delegated, activities of a private or public \n",
      "bank or one or more of its departments or \n",
      "branches. Is designated according to \n",
      "authority delegated or work performed \n",
      "such as: AGENT (BANK) SUB -AGENT \n",
      "(BANK)' metadata={'producer': 'PDFium', 'creator': 'PDFium', 'creationdate': 'D:20250812142019', 'source': 'C:\\\\Users\\\\bhushan\\\\Desktop\\\\dev1\\\\semantic_st25\\\\data\\\\NCO_2015_stripped_descriptions.pdf', 'total_pages': 1152, 'page': 20, 'page_label': '21', 'start_index': 2391}\n"
     ]
    }
   ],
   "source": [
    "results = vector_store.similarity_search_with_score(\"what does a Bank Manager do\")\n",
    "doc, score = results[0]\n",
    "print(f\"Score: {score}\\n\")\n",
    "print(doc)"
   ]
  },
  {
   "cell_type": "code",
   "execution_count": 25,
   "id": "77563bfa-4ccc-442b-a865-ffb0cd10b82d",
   "metadata": {},
   "outputs": [],
   "source": [
    "#\n",
    "#\n",
    "#\n",
    "#\n",
    "#\n",
    "#\n",
    "#"
   ]
  },
  {
   "cell_type": "code",
   "execution_count": 40,
   "id": "09fdc523-933d-4b2c-8df1-8c910089ce39",
   "metadata": {},
   "outputs": [
    {
     "name": "stdout",
     "output_type": "stream",
     "text": [
      "Row 500 done | Elapsed: 1719.85 sec\n"
     ]
    },
    {
     "name": "stderr",
     "output_type": "stream",
     "text": [
      "C:\\Users\\bhushan\\AppData\\Local\\Temp\\ipykernel_3380\\3349483669.py:61: SettingWithCopyWarning: \n",
      "A value is trying to be set on a copy of a slice from a DataFrame.\n",
      "Try using .loc[row_indexer,col_indexer] = value instead\n",
      "\n",
      "See the caveats in the documentation: https://pandas.pydata.org/pandas-docs/stable/user_guide/indexing.html#returning-a-view-versus-a-copy\n",
      "  test_df[\"description\"] = descriptions\n"
     ]
    }
   ],
   "source": [
    "import pandas as pd\n",
    "import ollama\n",
    "import time\n",
    "import sys\n",
    "\n",
    "df = pd.read_csv(r\"C:\\Users\\bhushan\\Desktop\\dev1\\semantic_st25\\nco_data.csv\")\n",
    "\n",
    "descriptions = []\n",
    "test_df = df.head(500)  # only take first 100 rows\n",
    "\n",
    "start_time = time.time()\n",
    "\n",
    "for _, row in test_df.iterrows():\n",
    "    occupation_title = row[\"occupation_title\"]\n",
    "    division = row[\"division\"]\n",
    "    subdivision = row[\"subdivision\"]\n",
    "    group = row[\"group\"]\n",
    "    family = row[\"family\"]\n",
    "\n",
    "    results = vector_store.similarity_search_with_score(occupation_title)\n",
    "    if not results:\n",
    "        descriptions.append(\"\")\n",
    "        continue\n",
    "\n",
    "    doc, score = results[0]\n",
    "    chunk = doc.page_content.strip()\n",
    "\n",
    "    prompt = f\"\"\"\n",
    "    You are given a text chunk that may include the description of a specific job mixed with unrelated content.\n",
    "    Your task is to provide a broad description of the job. Follow these pointers:\n",
    "    - Identify and extract only information that directly describes the given job.\n",
    "    - Summarize the job's purpose, nature of work, main duties, and essential skills.\n",
    "    - Ignore unrelated or administrative details.\n",
    "    - Rephrase in clear, professional language.\n",
    "    - Keep it factual and concise (maximum 100 words).\n",
    "    - No headings, formattings, or introductions.\n",
    "\n",
    "    Occupation Title: {occupation_title}\n",
    "    Division: {division}\n",
    "    Subdivision: {subdivision}\n",
    "    Group: {group}\n",
    "    Family: {family}\n",
    "    Text Chunk: {chunk}\n",
    "\n",
    "    Clean, concise job description:\n",
    "    \"\"\".strip()\n",
    "\n",
    "    resp = ollama.generate(\n",
    "        model=\"gemma3:1b\",\n",
    "        prompt=prompt\n",
    "    )\n",
    "\n",
    "    descriptions.append(resp[\"response\"].strip())\n",
    "\n",
    "    elapsed = time.time() - start_time\n",
    "    sys.stdout.write(f\"\\rRow {row['sno']} done | Elapsed: {elapsed:.2f} sec\")\n",
    "    sys.stdout.flush()\n",
    "\n",
    "print()\n",
    "\n",
    "test_df[\"description\"] = descriptions\n",
    "test_df.to_csv(r\"C:\\Users\\bhushan\\Desktop\\dev1\\semantic_st25\\nco_data_with_desc_500_new.csv\", index=False)\n"
   ]
  },
  {
   "cell_type": "code",
   "execution_count": null,
   "id": "ae523915-8c2c-4db9-a3e7-0b47ee048810",
   "metadata": {},
   "outputs": [],
   "source": []
  }
 ],
 "metadata": {
  "kernelspec": {
   "display_name": "Python 3 (ipykernel)",
   "language": "python",
   "name": "python3"
  },
  "language_info": {
   "codemirror_mode": {
    "name": "ipython",
    "version": 3
   },
   "file_extension": ".py",
   "mimetype": "text/x-python",
   "name": "python",
   "nbconvert_exporter": "python",
   "pygments_lexer": "ipython3",
   "version": "3.12.10"
  }
 },
 "nbformat": 4,
 "nbformat_minor": 5
}
