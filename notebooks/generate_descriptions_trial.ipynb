{
 "cells": [
  {
   "cell_type": "code",
   "execution_count": 1,
   "id": "0748a8c6-ea9f-4ae9-9dec-4ca6220c9909",
   "metadata": {},
   "outputs": [],
   "source": [
    "from ollama import chat\n",
    "from ollama import ChatResponse"
   ]
  },
  {
   "cell_type": "code",
   "execution_count": 19,
   "id": "991565c6-1598-46ce-812e-d4c3063bfa56",
   "metadata": {},
   "outputs": [
    {
     "name": "stdout",
     "output_type": "stream",
     "text": [
      "Software Developer:\n",
      "\n",
      "The role of a Software Developer centers around the creation and maintenance of software applications and related interfaces. Their primary duty is to develop new software solutions, including enhancements to existing packages and pre-defined templates. The developer will also provide support for custom applications, troubleshoot issues, and ensure ongoing maintenance and documentation.\n",
      "\n",
      "The candidate needs a strong foundation in software development principles, including coding and testing. Essential skills encompass proficiency in programming languages, debugging techniques, and the ability to write clean, efficient code. The position requires a candidate with an ISCO level 7 qualification, specifically focusing on Software Developers.\n"
     ]
    }
   ],
   "source": [
    "import ollama\n",
    "\n",
    "# Replace with your retrieved job title and chunk from vector search\n",
    "job_title = \"Software Developer\"\n",
    "chunk = \"\"\"page_content='Development \n",
    " \n",
    "Software Developer is responsible for \n",
    "development of software applications and \n",
    "interfaces as well as enhancements to \n",
    "existing packaged applications or pre -\n",
    "engineered templates. The job also \n",
    "involves providing support to custom \n",
    "applications, debugging, main tenance and \n",
    "documentation. \n",
    " \n",
    "Qualification Pack Details: \n",
    "QP NOS Reference  SSC/Q0501 \n",
    "QP NOS Name Software \n",
    "Developer-\n",
    "Application \n",
    "Development \n",
    "NSQF Level    7 \n",
    " \n",
    "ISCO 08 Unit Group Details: \n",
    "Code     2512 \n",
    "Title     Software \n",
    "Developers \n",
    " \n",
    "2512.0205 \n",
    "Junior Software Developer' metadata={'producer': 'PDFium', 'creator': 'PDFium', 'creationdate': 'D:20250812142019', 'source': 'C:\\\\Users\\\\bhushan\\\\Desktop\\\\dev1\\\\semantic_st25\\\\data\\\\NCO_2015_stripped_descriptions.pdf', 'total_pages': 1152, 'page': 224, 'page_label': '225', 'start_index': 1638}\"\"\"\n",
    "\n",
    "# Prompt template\n",
    "prompt = f\"\"\"\n",
    "You are given a text chunk that may include the description of a specific job mixed with unrelated content.\n",
    "Your task is to provide a broad description of the job. Follow these pointers:\n",
    "- Identify and extract only information that directly describes the given job.\n",
    "- Summarize the job's purpose, nature of work, main duties, and essential skills.\n",
    "- Ignore unrelated or administrative details.\n",
    "- Rephrase in clear, professional language.\n",
    "- Keep it factual and concise (maximum 200 words).\n",
    "- No headings, formattings, or introductions.\n",
    "\n",
    "Job Title: {job_title}\n",
    "Text Chunk: {chunk}\n",
    "\n",
    "Clean, concise job description:\n",
    "\"\"\"\n",
    "\n",
    "# Generate with Ollama Python SDK\n",
    "resp = ollama.generate(\n",
    "    model=\"gemma3:1b\",\n",
    "    prompt=prompt\n",
    ")\n",
    "\n",
    "print(resp[\"response\"])"
   ]
  },
  {
   "cell_type": "code",
   "execution_count": null,
   "id": "76e32d20-230b-45d2-9cb5-e9e041cde658",
   "metadata": {},
   "outputs": [],
   "source": []
  }
 ],
 "metadata": {
  "kernelspec": {
   "display_name": "Python 3 (ipykernel)",
   "language": "python",
   "name": "python3"
  },
  "language_info": {
   "codemirror_mode": {
    "name": "ipython",
    "version": 3
   },
   "file_extension": ".py",
   "mimetype": "text/x-python",
   "name": "python",
   "nbconvert_exporter": "python",
   "pygments_lexer": "ipython3",
   "version": "3.12.10"
  }
 },
 "nbformat": 4,
 "nbformat_minor": 5
}
